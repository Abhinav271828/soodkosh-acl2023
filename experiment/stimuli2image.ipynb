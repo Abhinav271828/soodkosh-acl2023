{
  "nbformat": 4,
  "nbformat_minor": 0,
  "metadata": {
    "colab": {
      "provenance": []
    },
    "kernelspec": {
      "name": "python3",
      "display_name": "Python 3"
    },
    "language_info": {
      "name": "python"
    }
  },
  "cells": [
    {
      "cell_type": "code",
      "source": [
        "#Run this notebook on Google Colab to generate an image for text written in Devanagiri script\n",
        "\n",
        "from google.colab import drive\n",
        "drive.mount('/content/gdrive', force_remount=True)"
      ],
      "metadata": {
        "id": "UuR9ir2yZo2K"
      },
      "execution_count": 10,
      "outputs": []
    },
    {
      "cell_type": "code",
      "execution_count": 5,
      "metadata": {
        "id": "eJG7-HuVZKJW"
      },
      "outputs": [],
      "source": [
        "import base64\n",
        "!sudo apt-get install libfreetype6-dev libharfbuzz-dev libfribidi-dev gtk-doc-tools\n",
        "!sudo apt install fonts-indic"
      ]
    },
    {
      "cell_type": "code",
      "source": [
        "!sudo apt install libraqm-dev\n",
        "!pip3 install -v --upgrade --force-reinstall Pillow\n",
        "from PIL import features\n",
        "print(features.check('raqm'))"
      ],
      "metadata": {
        "id": "nMG-eatrZW4s"
      },
      "execution_count": 6,
      "outputs": []
    },
    {
      "cell_type": "code",
      "source": [
        "from PIL import Image, ImageDraw, ImageFont, features\n",
        "print(features.check(\"raqm\"))"
      ],
      "metadata": {
        "id": "ZfJ2s49DZYAi"
      },
      "execution_count": 9,
      "outputs": []
    },
    {
      "cell_type": "code",
      "source": [
        "unicode_text = \"नित्य\" #Input word"
      ],
      "metadata": {
        "id": "FG9WiB8TZaPU"
      },
      "execution_count": 2,
      "outputs": []
    },
    {
      "cell_type": "code",
      "source": [
        "W, H = (300, 80)\n",
        "img = Image.new('RGB', (W, H), color = (73, 109, 137))\n",
        "d = ImageDraw.Draw(img)\n",
        "unicode_font = ImageFont.truetype(\"/content/gdrive/My Drive/IS/Gargi.ttf\",50) #Choose most suitable font for the respective language\n",
        "w, h = d.textsize(unicode_text, font=unicode_font)\n",
        "print(unicode_text, w, h)\n",
        "d.text(((W-w)/2,(H-h)/2), unicode_text, font=unicode_font, fill=(255,255,0))\n",
        "img.save(\"/content/gdrive/My Drive/IS/curr.png\")"
      ],
      "metadata": {
        "id": "x1QrtsdHZcZd"
      },
      "execution_count": 7,
      "outputs": []
    },
    {
      "cell_type": "code",
      "source": [
        "from IPython.display import display\n",
        "curr_im = Image.open(\"/content/gdrive/My Drive/IS/curr.png\")\n",
        "display(curr_im)"
      ],
      "metadata": {
        "id": "ZbnaDomBZkQ6"
      },
      "execution_count": 8,
      "outputs": []
    }
  ]
}